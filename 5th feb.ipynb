{
 "cells": [
  {
   "cell_type": "markdown",
   "id": "3ecba6c7-4a7d-4e06-86f3-7ec9134149b8",
   "metadata": {},
   "source": [
    "Q1.\n",
    "\n",
    "Classes in oops are just a blueprint or a classification of objects and objects are the instantiation of class. Objects are the real world entity or physical entity or we also say that entity having state behaviour.Example-suppose if we want to buy a car then we say that it is a 'class' but which car we want to buy is according to its functionality, model,features,etc that we called as 'object' means it is a real world entity."
   ]
  },
  {
   "cell_type": "code",
   "execution_count": 3,
   "id": "085dafa4-b431-4546-be51-45aea131c426",
   "metadata": {},
   "outputs": [],
   "source": [
    "class car:\n",
    "    def MG_hector(sel):\n",
    "        pass\n",
    "    def Tata_Nexon(self):\n",
    "        pass"
   ]
  },
  {
   "cell_type": "code",
   "execution_count": 4,
   "id": "b7ec3437-a105-4679-b902-3ce72a820a46",
   "metadata": {},
   "outputs": [],
   "source": [
    "c1 = car()  "
   ]
  },
  {
   "cell_type": "code",
   "execution_count": 5,
   "id": "10e611b7-7f83-40b2-829f-dc48e6896d99",
   "metadata": {},
   "outputs": [],
   "source": [
    "c1.Tata_Nexon() # object"
   ]
  },
  {
   "cell_type": "markdown",
   "id": "9f342dc7-2649-4729-960c-c7716a800b88",
   "metadata": {},
   "source": [
    "Q2\n",
    "\n",
    "Four pillars in oops:-\n",
    "1.Inheritance\n",
    "2.Encapsulation\n",
    "3.Polymorphism\n",
    "4.Abstraction"
   ]
  },
  {
   "cell_type": "markdown",
   "id": "042e4ca9-f47d-4d0c-9aa4-0d817548e82f",
   "metadata": {},
   "source": [
    "Q3.\n",
    "\n",
    "init is a special method used in oops called constructor method.Constructor is used to initialise the object and object properties"
   ]
  },
  {
   "cell_type": "code",
   "execution_count": 6,
   "id": "9714954d-94ec-4081-8dbe-226a6f0d3d09",
   "metadata": {},
   "outputs": [],
   "source": [
    "#ex\n",
    "\n",
    "class Student:\n",
    "    def __init__(self,name):\n",
    "        self.name = name"
   ]
  },
  {
   "cell_type": "code",
   "execution_count": 7,
   "id": "51a7da9e-9df3-4435-beca-81389f121508",
   "metadata": {},
   "outputs": [],
   "source": [
    "s1 = Student(\"Shailove\")"
   ]
  },
  {
   "cell_type": "code",
   "execution_count": 8,
   "id": "b1de4b74-38ab-4049-995f-d8413d7ba1c1",
   "metadata": {},
   "outputs": [
    {
     "data": {
      "text/plain": [
       "'Shailove'"
      ]
     },
     "execution_count": 8,
     "metadata": {},
     "output_type": "execute_result"
    }
   ],
   "source": [
    "s1.name"
   ]
  },
  {
   "cell_type": "markdown",
   "id": "9c121c50-559a-4566-ba0c-6ad81f290631",
   "metadata": {},
   "source": [
    "Q4.\n",
    "\n",
    "'self' is just a variable which is used in every defined function inside a class.Self is used because it contain the memory address of a current object.Suppose when we creare a object the memory address of that object goes inside a 'self' parameter in a function.which means that now constructor or function can initialise for that particular object."
   ]
  },
  {
   "cell_type": "markdown",
   "id": "4f1defbc-abe6-4664-a38f-fb6e73f00b95",
   "metadata": {},
   "source": [
    "Q5.\n",
    "\n",
    "Inheritance in oops Deriving a new class from an existing class so that new class inherits all function and attributes of existing class is called inheritance. Types of inheritance: 1- Single Inheritance 2- Multi level Inheritance 3-Heirarchical Inheritance 4-Multiple Inheritance 5-Hybrid Inheritance"
   ]
  }
 ],
 "metadata": {
  "kernelspec": {
   "display_name": "Python 3 (ipykernel)",
   "language": "python",
   "name": "python3"
  },
  "language_info": {
   "codemirror_mode": {
    "name": "ipython",
    "version": 3
   },
   "file_extension": ".py",
   "mimetype": "text/x-python",
   "name": "python",
   "nbconvert_exporter": "python",
   "pygments_lexer": "ipython3",
   "version": "3.10.8"
  }
 },
 "nbformat": 4,
 "nbformat_minor": 5
}
